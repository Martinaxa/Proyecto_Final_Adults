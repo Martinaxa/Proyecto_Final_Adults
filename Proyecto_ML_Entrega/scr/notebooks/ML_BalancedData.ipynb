{
 "cells": [
  {
   "attachments": {},
   "cell_type": "markdown",
   "metadata": {},
   "source": [
    "# ***MACHINE LEARNING***\n",
    "\n",
    "## *ÍNDICE:* \n",
    "---\n",
    "0. INTRODUCCIÓN\n",
    "1. ANÁLISIS EXPLORATORIO DE DATOS (EDA)\n",
    "    - 1.1. Acondicionamiento bases de datos\n",
    "    - 1.2. Análisis visual\n",
    "    - 1.3. Análisis estadístico  \n",
    "2. **MACHINE LEARNING**\n",
    "    - [2.1. Preparación y limpieza de datos](#21)\n",
    "    - [2.2. Feature Engineering](#22)\n",
    "    - [2.3. Modelado](#23)\n",
    "3. RESULTADOS\n",
    "    - 3.1. Visualización y reporting de los resultados\n",
    "    - 3.2. Creación de un pipeline para el flujo automatizado\n",
    "---"
   ]
  },
  {
   "attachments": {},
   "cell_type": "markdown",
   "metadata": {},
   "source": [
    "##  **2.1. Preparación de datos**<a id='21'></a>"
   ]
  },
  {
   "cell_type": "code",
   "execution_count": 34,
   "metadata": {},
   "outputs": [
    {
     "name": "stdout",
     "output_type": "stream",
     "text": [
      "Requirement already satisfied: xgboost in c:\\users\\mareg\\anaconda3\\envs\\general\\lib\\site-packages (1.7.5)\n",
      "Requirement already satisfied: numpy in c:\\users\\mareg\\anaconda3\\envs\\general\\lib\\site-packages (from xgboost) (1.25.1)\n",
      "Requirement already satisfied: scipy in c:\\users\\mareg\\anaconda3\\envs\\general\\lib\\site-packages (from xgboost) (1.10.1)\n"
     ]
    }
   ],
   "source": [
    "!pip install xgboost"
   ]
  },
  {
   "cell_type": "code",
   "execution_count": 37,
   "metadata": {},
   "outputs": [],
   "source": [
    "import pandas as pd\n",
    "import seaborn as sns\n",
    "import numpy as np\n",
    "from sklearn.impute import SimpleImputer\n",
    "from sklearn.model_selection  import train_test_split\n",
    "from sklearn.neighbors import KNeighborsClassifier\n",
    "from sklearn.metrics import accuracy_score\n",
    "from sklearn.feature_selection import RFE\n",
    "from sklearn.preprocessing import StandardScaler\n",
    "from sklearn.tree import DecisionTreeClassifier\n",
    "from xgboost import XGBClassifier\n",
    "import matplotlib.pyplot as plt\n"
   ]
  },
  {
   "cell_type": "code",
   "execution_count": 5,
   "metadata": {},
   "outputs": [
    {
     "data": {
      "text/html": [
       "<div>\n",
       "<style scoped>\n",
       "    .dataframe tbody tr th:only-of-type {\n",
       "        vertical-align: middle;\n",
       "    }\n",
       "\n",
       "    .dataframe tbody tr th {\n",
       "        vertical-align: top;\n",
       "    }\n",
       "\n",
       "    .dataframe thead th {\n",
       "        text-align: right;\n",
       "    }\n",
       "</style>\n",
       "<table border=\"1\" class=\"dataframe\">\n",
       "  <thead>\n",
       "    <tr style=\"text-align: right;\">\n",
       "      <th></th>\n",
       "      <th>capital-gain</th>\n",
       "      <th>capital-loss</th>\n",
       "      <th>hours-per-week</th>\n",
       "      <th>age</th>\n",
       "      <th>workclass_Local-gov</th>\n",
       "      <th>workclass_Never-worked</th>\n",
       "      <th>workclass_Private</th>\n",
       "      <th>workclass_Self-emp-inc</th>\n",
       "      <th>workclass_Self-emp-not-inc</th>\n",
       "      <th>workclass_State-gov</th>\n",
       "      <th>...</th>\n",
       "      <th>native_country_Puerto-Rico</th>\n",
       "      <th>native_country_Scotland</th>\n",
       "      <th>native_country_South</th>\n",
       "      <th>native_country_Taiwan</th>\n",
       "      <th>native_country_Thailand</th>\n",
       "      <th>native_country_Trinadad&amp;Tobago</th>\n",
       "      <th>native_country_United-States</th>\n",
       "      <th>native_country_Vietnam</th>\n",
       "      <th>native_country_Yugoslavia</th>\n",
       "      <th>class_&gt;50K</th>\n",
       "    </tr>\n",
       "  </thead>\n",
       "  <tbody>\n",
       "    <tr>\n",
       "      <th>0</th>\n",
       "      <td>2174</td>\n",
       "      <td>0</td>\n",
       "      <td>40</td>\n",
       "      <td>39</td>\n",
       "      <td>0</td>\n",
       "      <td>0</td>\n",
       "      <td>0</td>\n",
       "      <td>0</td>\n",
       "      <td>0</td>\n",
       "      <td>1</td>\n",
       "      <td>...</td>\n",
       "      <td>0</td>\n",
       "      <td>0</td>\n",
       "      <td>0</td>\n",
       "      <td>0</td>\n",
       "      <td>0</td>\n",
       "      <td>0</td>\n",
       "      <td>1</td>\n",
       "      <td>0</td>\n",
       "      <td>0</td>\n",
       "      <td>0</td>\n",
       "    </tr>\n",
       "    <tr>\n",
       "      <th>1</th>\n",
       "      <td>0</td>\n",
       "      <td>0</td>\n",
       "      <td>13</td>\n",
       "      <td>50</td>\n",
       "      <td>0</td>\n",
       "      <td>0</td>\n",
       "      <td>0</td>\n",
       "      <td>0</td>\n",
       "      <td>1</td>\n",
       "      <td>0</td>\n",
       "      <td>...</td>\n",
       "      <td>0</td>\n",
       "      <td>0</td>\n",
       "      <td>0</td>\n",
       "      <td>0</td>\n",
       "      <td>0</td>\n",
       "      <td>0</td>\n",
       "      <td>1</td>\n",
       "      <td>0</td>\n",
       "      <td>0</td>\n",
       "      <td>0</td>\n",
       "    </tr>\n",
       "    <tr>\n",
       "      <th>2</th>\n",
       "      <td>0</td>\n",
       "      <td>0</td>\n",
       "      <td>40</td>\n",
       "      <td>38</td>\n",
       "      <td>0</td>\n",
       "      <td>0</td>\n",
       "      <td>1</td>\n",
       "      <td>0</td>\n",
       "      <td>0</td>\n",
       "      <td>0</td>\n",
       "      <td>...</td>\n",
       "      <td>0</td>\n",
       "      <td>0</td>\n",
       "      <td>0</td>\n",
       "      <td>0</td>\n",
       "      <td>0</td>\n",
       "      <td>0</td>\n",
       "      <td>1</td>\n",
       "      <td>0</td>\n",
       "      <td>0</td>\n",
       "      <td>0</td>\n",
       "    </tr>\n",
       "    <tr>\n",
       "      <th>3</th>\n",
       "      <td>0</td>\n",
       "      <td>0</td>\n",
       "      <td>40</td>\n",
       "      <td>53</td>\n",
       "      <td>0</td>\n",
       "      <td>0</td>\n",
       "      <td>1</td>\n",
       "      <td>0</td>\n",
       "      <td>0</td>\n",
       "      <td>0</td>\n",
       "      <td>...</td>\n",
       "      <td>0</td>\n",
       "      <td>0</td>\n",
       "      <td>0</td>\n",
       "      <td>0</td>\n",
       "      <td>0</td>\n",
       "      <td>0</td>\n",
       "      <td>1</td>\n",
       "      <td>0</td>\n",
       "      <td>0</td>\n",
       "      <td>0</td>\n",
       "    </tr>\n",
       "    <tr>\n",
       "      <th>4</th>\n",
       "      <td>0</td>\n",
       "      <td>0</td>\n",
       "      <td>40</td>\n",
       "      <td>28</td>\n",
       "      <td>0</td>\n",
       "      <td>0</td>\n",
       "      <td>1</td>\n",
       "      <td>0</td>\n",
       "      <td>0</td>\n",
       "      <td>0</td>\n",
       "      <td>...</td>\n",
       "      <td>0</td>\n",
       "      <td>0</td>\n",
       "      <td>0</td>\n",
       "      <td>0</td>\n",
       "      <td>0</td>\n",
       "      <td>0</td>\n",
       "      <td>0</td>\n",
       "      <td>0</td>\n",
       "      <td>0</td>\n",
       "      <td>0</td>\n",
       "    </tr>\n",
       "  </tbody>\n",
       "</table>\n",
       "<p>5 rows × 89 columns</p>\n",
       "</div>"
      ],
      "text/plain": [
       "   capital-gain  capital-loss  hours-per-week  age  workclass_Local-gov  \\\n",
       "0          2174             0              40   39                    0   \n",
       "1             0             0              13   50                    0   \n",
       "2             0             0              40   38                    0   \n",
       "3             0             0              40   53                    0   \n",
       "4             0             0              40   28                    0   \n",
       "\n",
       "   workclass_Never-worked  workclass_Private  workclass_Self-emp-inc  \\\n",
       "0                       0                  0                       0   \n",
       "1                       0                  0                       0   \n",
       "2                       0                  1                       0   \n",
       "3                       0                  1                       0   \n",
       "4                       0                  1                       0   \n",
       "\n",
       "   workclass_Self-emp-not-inc  workclass_State-gov  ...  \\\n",
       "0                           0                    1  ...   \n",
       "1                           1                    0  ...   \n",
       "2                           0                    0  ...   \n",
       "3                           0                    0  ...   \n",
       "4                           0                    0  ...   \n",
       "\n",
       "   native_country_Puerto-Rico  native_country_Scotland  native_country_South  \\\n",
       "0                           0                        0                     0   \n",
       "1                           0                        0                     0   \n",
       "2                           0                        0                     0   \n",
       "3                           0                        0                     0   \n",
       "4                           0                        0                     0   \n",
       "\n",
       "   native_country_Taiwan  native_country_Thailand  \\\n",
       "0                      0                        0   \n",
       "1                      0                        0   \n",
       "2                      0                        0   \n",
       "3                      0                        0   \n",
       "4                      0                        0   \n",
       "\n",
       "   native_country_Trinadad&Tobago  native_country_United-States  \\\n",
       "0                               0                             1   \n",
       "1                               0                             1   \n",
       "2                               0                             1   \n",
       "3                               0                             1   \n",
       "4                               0                             0   \n",
       "\n",
       "   native_country_Vietnam  native_country_Yugoslavia  class_>50K  \n",
       "0                       0                          0           0  \n",
       "1                       0                          0           0  \n",
       "2                       0                          0           0  \n",
       "3                       0                          0           0  \n",
       "4                       0                          0           0  \n",
       "\n",
       "[5 rows x 89 columns]"
      ]
     },
     "execution_count": 5,
     "metadata": {},
     "output_type": "execute_result"
    }
   ],
   "source": [
    "df_train=pd.read_csv(r'C:\\Users\\mareg\\OneDrive\\Documentos\\TheBridge_Enero\\Machine_Learning\\test\\Proyecto_Final\\Proyecto_ML_Entrega\\scr\\data\\processed\\adults_cleaned_encoded3.csv')\n",
    "df_train.head()"
   ]
  },
  {
   "cell_type": "code",
   "execution_count": 7,
   "metadata": {},
   "outputs": [],
   "source": [
    "# Definir los datos de entrenamiento y la variable objetivo\n",
    "X = df_train.drop(columns=['class_>50K'])  # DataFrame sin la columna objetivo 'class'\n",
    "y = df_train['class_>50K']  # Serie con la columna objetivo 'class'\n",
    "\n",
    "# Dividir los datos en conjuntos de entrenamiento y prueba\n",
    "X_train, X_test, y_train, y_test = train_test_split(X, y, test_size=0.2, random_state=42)"
   ]
  },
  {
   "cell_type": "code",
   "execution_count": 8,
   "metadata": {},
   "outputs": [
    {
     "name": "stdout",
     "output_type": "stream",
     "text": [
      "Total features shape: (32537, 88)\n",
      "Train features shape: (26029, 88)\n",
      "Train target shape: (26029,)\n",
      "Test features shape: (6508, 88)\n",
      "Test target shape: (6508,)\n"
     ]
    }
   ],
   "source": [
    "print(\"Total features shape:\", X.shape)\n",
    "print(\"Train features shape:\", X_train.shape)\n",
    "print(\"Train target shape:\", y_train.shape)\n",
    "print(\"Test features shape:\", X_test.shape)\n",
    "print(\"Test target shape:\", y_test.shape)"
   ]
  },
  {
   "cell_type": "code",
   "execution_count": 9,
   "metadata": {},
   "outputs": [
    {
     "data": {
      "text/html": [
       "<div>\n",
       "<style scoped>\n",
       "    .dataframe tbody tr th:only-of-type {\n",
       "        vertical-align: middle;\n",
       "    }\n",
       "\n",
       "    .dataframe tbody tr th {\n",
       "        vertical-align: top;\n",
       "    }\n",
       "\n",
       "    .dataframe thead th {\n",
       "        text-align: right;\n",
       "    }\n",
       "</style>\n",
       "<table border=\"1\" class=\"dataframe\">\n",
       "  <thead>\n",
       "    <tr style=\"text-align: right;\">\n",
       "      <th></th>\n",
       "      <th>capital-gain</th>\n",
       "      <th>capital-loss</th>\n",
       "      <th>hours-per-week</th>\n",
       "      <th>age</th>\n",
       "      <th>workclass_Local-gov</th>\n",
       "      <th>workclass_Never-worked</th>\n",
       "      <th>workclass_Private</th>\n",
       "      <th>workclass_Self-emp-inc</th>\n",
       "      <th>workclass_Self-emp-not-inc</th>\n",
       "      <th>workclass_State-gov</th>\n",
       "      <th>...</th>\n",
       "      <th>native_country_Portugal</th>\n",
       "      <th>native_country_Puerto-Rico</th>\n",
       "      <th>native_country_Scotland</th>\n",
       "      <th>native_country_South</th>\n",
       "      <th>native_country_Taiwan</th>\n",
       "      <th>native_country_Thailand</th>\n",
       "      <th>native_country_Trinadad&amp;Tobago</th>\n",
       "      <th>native_country_United-States</th>\n",
       "      <th>native_country_Vietnam</th>\n",
       "      <th>native_country_Yugoslavia</th>\n",
       "    </tr>\n",
       "  </thead>\n",
       "  <tbody>\n",
       "    <tr>\n",
       "      <th>0</th>\n",
       "      <td>2174</td>\n",
       "      <td>0</td>\n",
       "      <td>40</td>\n",
       "      <td>39</td>\n",
       "      <td>0</td>\n",
       "      <td>0</td>\n",
       "      <td>0</td>\n",
       "      <td>0</td>\n",
       "      <td>0</td>\n",
       "      <td>1</td>\n",
       "      <td>...</td>\n",
       "      <td>0</td>\n",
       "      <td>0</td>\n",
       "      <td>0</td>\n",
       "      <td>0</td>\n",
       "      <td>0</td>\n",
       "      <td>0</td>\n",
       "      <td>0</td>\n",
       "      <td>1</td>\n",
       "      <td>0</td>\n",
       "      <td>0</td>\n",
       "    </tr>\n",
       "    <tr>\n",
       "      <th>1</th>\n",
       "      <td>0</td>\n",
       "      <td>0</td>\n",
       "      <td>13</td>\n",
       "      <td>50</td>\n",
       "      <td>0</td>\n",
       "      <td>0</td>\n",
       "      <td>0</td>\n",
       "      <td>0</td>\n",
       "      <td>1</td>\n",
       "      <td>0</td>\n",
       "      <td>...</td>\n",
       "      <td>0</td>\n",
       "      <td>0</td>\n",
       "      <td>0</td>\n",
       "      <td>0</td>\n",
       "      <td>0</td>\n",
       "      <td>0</td>\n",
       "      <td>0</td>\n",
       "      <td>1</td>\n",
       "      <td>0</td>\n",
       "      <td>0</td>\n",
       "    </tr>\n",
       "    <tr>\n",
       "      <th>2</th>\n",
       "      <td>0</td>\n",
       "      <td>0</td>\n",
       "      <td>40</td>\n",
       "      <td>38</td>\n",
       "      <td>0</td>\n",
       "      <td>0</td>\n",
       "      <td>1</td>\n",
       "      <td>0</td>\n",
       "      <td>0</td>\n",
       "      <td>0</td>\n",
       "      <td>...</td>\n",
       "      <td>0</td>\n",
       "      <td>0</td>\n",
       "      <td>0</td>\n",
       "      <td>0</td>\n",
       "      <td>0</td>\n",
       "      <td>0</td>\n",
       "      <td>0</td>\n",
       "      <td>1</td>\n",
       "      <td>0</td>\n",
       "      <td>0</td>\n",
       "    </tr>\n",
       "    <tr>\n",
       "      <th>3</th>\n",
       "      <td>0</td>\n",
       "      <td>0</td>\n",
       "      <td>40</td>\n",
       "      <td>53</td>\n",
       "      <td>0</td>\n",
       "      <td>0</td>\n",
       "      <td>1</td>\n",
       "      <td>0</td>\n",
       "      <td>0</td>\n",
       "      <td>0</td>\n",
       "      <td>...</td>\n",
       "      <td>0</td>\n",
       "      <td>0</td>\n",
       "      <td>0</td>\n",
       "      <td>0</td>\n",
       "      <td>0</td>\n",
       "      <td>0</td>\n",
       "      <td>0</td>\n",
       "      <td>1</td>\n",
       "      <td>0</td>\n",
       "      <td>0</td>\n",
       "    </tr>\n",
       "    <tr>\n",
       "      <th>4</th>\n",
       "      <td>0</td>\n",
       "      <td>0</td>\n",
       "      <td>40</td>\n",
       "      <td>28</td>\n",
       "      <td>0</td>\n",
       "      <td>0</td>\n",
       "      <td>1</td>\n",
       "      <td>0</td>\n",
       "      <td>0</td>\n",
       "      <td>0</td>\n",
       "      <td>...</td>\n",
       "      <td>0</td>\n",
       "      <td>0</td>\n",
       "      <td>0</td>\n",
       "      <td>0</td>\n",
       "      <td>0</td>\n",
       "      <td>0</td>\n",
       "      <td>0</td>\n",
       "      <td>0</td>\n",
       "      <td>0</td>\n",
       "      <td>0</td>\n",
       "    </tr>\n",
       "    <tr>\n",
       "      <th>...</th>\n",
       "      <td>...</td>\n",
       "      <td>...</td>\n",
       "      <td>...</td>\n",
       "      <td>...</td>\n",
       "      <td>...</td>\n",
       "      <td>...</td>\n",
       "      <td>...</td>\n",
       "      <td>...</td>\n",
       "      <td>...</td>\n",
       "      <td>...</td>\n",
       "      <td>...</td>\n",
       "      <td>...</td>\n",
       "      <td>...</td>\n",
       "      <td>...</td>\n",
       "      <td>...</td>\n",
       "      <td>...</td>\n",
       "      <td>...</td>\n",
       "      <td>...</td>\n",
       "      <td>...</td>\n",
       "      <td>...</td>\n",
       "      <td>...</td>\n",
       "    </tr>\n",
       "    <tr>\n",
       "      <th>32532</th>\n",
       "      <td>0</td>\n",
       "      <td>0</td>\n",
       "      <td>38</td>\n",
       "      <td>27</td>\n",
       "      <td>0</td>\n",
       "      <td>0</td>\n",
       "      <td>1</td>\n",
       "      <td>0</td>\n",
       "      <td>0</td>\n",
       "      <td>0</td>\n",
       "      <td>...</td>\n",
       "      <td>0</td>\n",
       "      <td>0</td>\n",
       "      <td>0</td>\n",
       "      <td>0</td>\n",
       "      <td>0</td>\n",
       "      <td>0</td>\n",
       "      <td>0</td>\n",
       "      <td>1</td>\n",
       "      <td>0</td>\n",
       "      <td>0</td>\n",
       "    </tr>\n",
       "    <tr>\n",
       "      <th>32533</th>\n",
       "      <td>0</td>\n",
       "      <td>0</td>\n",
       "      <td>40</td>\n",
       "      <td>40</td>\n",
       "      <td>0</td>\n",
       "      <td>0</td>\n",
       "      <td>1</td>\n",
       "      <td>0</td>\n",
       "      <td>0</td>\n",
       "      <td>0</td>\n",
       "      <td>...</td>\n",
       "      <td>0</td>\n",
       "      <td>0</td>\n",
       "      <td>0</td>\n",
       "      <td>0</td>\n",
       "      <td>0</td>\n",
       "      <td>0</td>\n",
       "      <td>0</td>\n",
       "      <td>1</td>\n",
       "      <td>0</td>\n",
       "      <td>0</td>\n",
       "    </tr>\n",
       "    <tr>\n",
       "      <th>32534</th>\n",
       "      <td>0</td>\n",
       "      <td>0</td>\n",
       "      <td>40</td>\n",
       "      <td>58</td>\n",
       "      <td>0</td>\n",
       "      <td>0</td>\n",
       "      <td>1</td>\n",
       "      <td>0</td>\n",
       "      <td>0</td>\n",
       "      <td>0</td>\n",
       "      <td>...</td>\n",
       "      <td>0</td>\n",
       "      <td>0</td>\n",
       "      <td>0</td>\n",
       "      <td>0</td>\n",
       "      <td>0</td>\n",
       "      <td>0</td>\n",
       "      <td>0</td>\n",
       "      <td>1</td>\n",
       "      <td>0</td>\n",
       "      <td>0</td>\n",
       "    </tr>\n",
       "    <tr>\n",
       "      <th>32535</th>\n",
       "      <td>0</td>\n",
       "      <td>0</td>\n",
       "      <td>20</td>\n",
       "      <td>22</td>\n",
       "      <td>0</td>\n",
       "      <td>0</td>\n",
       "      <td>1</td>\n",
       "      <td>0</td>\n",
       "      <td>0</td>\n",
       "      <td>0</td>\n",
       "      <td>...</td>\n",
       "      <td>0</td>\n",
       "      <td>0</td>\n",
       "      <td>0</td>\n",
       "      <td>0</td>\n",
       "      <td>0</td>\n",
       "      <td>0</td>\n",
       "      <td>0</td>\n",
       "      <td>1</td>\n",
       "      <td>0</td>\n",
       "      <td>0</td>\n",
       "    </tr>\n",
       "    <tr>\n",
       "      <th>32536</th>\n",
       "      <td>15024</td>\n",
       "      <td>0</td>\n",
       "      <td>40</td>\n",
       "      <td>52</td>\n",
       "      <td>0</td>\n",
       "      <td>0</td>\n",
       "      <td>0</td>\n",
       "      <td>1</td>\n",
       "      <td>0</td>\n",
       "      <td>0</td>\n",
       "      <td>...</td>\n",
       "      <td>0</td>\n",
       "      <td>0</td>\n",
       "      <td>0</td>\n",
       "      <td>0</td>\n",
       "      <td>0</td>\n",
       "      <td>0</td>\n",
       "      <td>0</td>\n",
       "      <td>1</td>\n",
       "      <td>0</td>\n",
       "      <td>0</td>\n",
       "    </tr>\n",
       "  </tbody>\n",
       "</table>\n",
       "<p>32537 rows × 88 columns</p>\n",
       "</div>"
      ],
      "text/plain": [
       "       capital-gain  capital-loss  hours-per-week  age  workclass_Local-gov  \\\n",
       "0              2174             0              40   39                    0   \n",
       "1                 0             0              13   50                    0   \n",
       "2                 0             0              40   38                    0   \n",
       "3                 0             0              40   53                    0   \n",
       "4                 0             0              40   28                    0   \n",
       "...             ...           ...             ...  ...                  ...   \n",
       "32532             0             0              38   27                    0   \n",
       "32533             0             0              40   40                    0   \n",
       "32534             0             0              40   58                    0   \n",
       "32535             0             0              20   22                    0   \n",
       "32536         15024             0              40   52                    0   \n",
       "\n",
       "       workclass_Never-worked  workclass_Private  workclass_Self-emp-inc  \\\n",
       "0                           0                  0                       0   \n",
       "1                           0                  0                       0   \n",
       "2                           0                  1                       0   \n",
       "3                           0                  1                       0   \n",
       "4                           0                  1                       0   \n",
       "...                       ...                ...                     ...   \n",
       "32532                       0                  1                       0   \n",
       "32533                       0                  1                       0   \n",
       "32534                       0                  1                       0   \n",
       "32535                       0                  1                       0   \n",
       "32536                       0                  0                       1   \n",
       "\n",
       "       workclass_Self-emp-not-inc  workclass_State-gov  ...  \\\n",
       "0                               0                    1  ...   \n",
       "1                               1                    0  ...   \n",
       "2                               0                    0  ...   \n",
       "3                               0                    0  ...   \n",
       "4                               0                    0  ...   \n",
       "...                           ...                  ...  ...   \n",
       "32532                           0                    0  ...   \n",
       "32533                           0                    0  ...   \n",
       "32534                           0                    0  ...   \n",
       "32535                           0                    0  ...   \n",
       "32536                           0                    0  ...   \n",
       "\n",
       "       native_country_Portugal  native_country_Puerto-Rico  \\\n",
       "0                            0                           0   \n",
       "1                            0                           0   \n",
       "2                            0                           0   \n",
       "3                            0                           0   \n",
       "4                            0                           0   \n",
       "...                        ...                         ...   \n",
       "32532                        0                           0   \n",
       "32533                        0                           0   \n",
       "32534                        0                           0   \n",
       "32535                        0                           0   \n",
       "32536                        0                           0   \n",
       "\n",
       "       native_country_Scotland  native_country_South  native_country_Taiwan  \\\n",
       "0                            0                     0                      0   \n",
       "1                            0                     0                      0   \n",
       "2                            0                     0                      0   \n",
       "3                            0                     0                      0   \n",
       "4                            0                     0                      0   \n",
       "...                        ...                   ...                    ...   \n",
       "32532                        0                     0                      0   \n",
       "32533                        0                     0                      0   \n",
       "32534                        0                     0                      0   \n",
       "32535                        0                     0                      0   \n",
       "32536                        0                     0                      0   \n",
       "\n",
       "       native_country_Thailand  native_country_Trinadad&Tobago  \\\n",
       "0                            0                               0   \n",
       "1                            0                               0   \n",
       "2                            0                               0   \n",
       "3                            0                               0   \n",
       "4                            0                               0   \n",
       "...                        ...                             ...   \n",
       "32532                        0                               0   \n",
       "32533                        0                               0   \n",
       "32534                        0                               0   \n",
       "32535                        0                               0   \n",
       "32536                        0                               0   \n",
       "\n",
       "       native_country_United-States  native_country_Vietnam  \\\n",
       "0                                 1                       0   \n",
       "1                                 1                       0   \n",
       "2                                 1                       0   \n",
       "3                                 1                       0   \n",
       "4                                 0                       0   \n",
       "...                             ...                     ...   \n",
       "32532                             1                       0   \n",
       "32533                             1                       0   \n",
       "32534                             1                       0   \n",
       "32535                             1                       0   \n",
       "32536                             1                       0   \n",
       "\n",
       "       native_country_Yugoslavia  \n",
       "0                              0  \n",
       "1                              0  \n",
       "2                              0  \n",
       "3                              0  \n",
       "4                              0  \n",
       "...                          ...  \n",
       "32532                          0  \n",
       "32533                          0  \n",
       "32534                          0  \n",
       "32535                          0  \n",
       "32536                          0  \n",
       "\n",
       "[32537 rows x 88 columns]"
      ]
     },
     "execution_count": 9,
     "metadata": {},
     "output_type": "execute_result"
    }
   ],
   "source": [
    "X"
   ]
  },
  {
   "attachments": {},
   "cell_type": "markdown",
   "metadata": {},
   "source": [
    "##  **2.2. Feature Engineering**<a id='22'></a>"
   ]
  },
  {
   "cell_type": "code",
   "execution_count": 15,
   "metadata": {},
   "outputs": [
    {
     "data": {
      "text/plain": [
       "<Axes: xlabel='class_>50K', ylabel='count'>"
      ]
     },
     "execution_count": 15,
     "metadata": {},
     "output_type": "execute_result"
    },
    {
     "data": {
      "image/png": "[encoded data removed]",
      "text/plain": [
       "<Figure size 800x500 with 1 Axes>"
      ]
     },
     "metadata": {},
     "output_type": "display_data"
    }
   ],
   "source": [
    "sns.set(rc={'figure.figsize':(8, 5)})\n",
    "sns.countplot(x=y,data=df_train,palette=\"coolwarm\")"
   ]
  },
  {
   "attachments": {},
   "cell_type": "markdown",
   "metadata": {},
   "source": [
    "**Observaciones:**\n",
    "\n",
    "- Dataset desbalanceado\n",
    "\n",
    "**Propuestas:**\n",
    "\n",
    "Al tener un dataset desbalanceado se buscan una serie de opciones, en este caso, suponiendo que no se puedan obtener más datos que equilibren nuestro dataset se plantean las siguientes opciones.\n",
    "- Opciones para *balancear la data*:\n",
    "\n",
    "    - Oversampling.\n",
    "    - Undersampling.\n",
    "    - Métodos mixtos.\n",
    "\n"
   ]
  },
  {
   "attachments": {},
   "cell_type": "markdown",
   "metadata": {},
   "source": [
    "En este notebook se pretende tratar los datos para mejorar los modelos que se han comprobado mejores en el notebook anterior `ML_BaselineX.ipynb`. \n",
    "\n",
    "Se crean dos dataset procesados:\n",
    "1. Se seleccionan las variables indepedientes más influyentes mediante los métodos no supervisado de **PCA** y **RFE**.\n",
    "2. Se balancean las variables utilizando el método de resampling: \n",
    "Planteamiento: balanceado aleatorio, algoritmo ROSE y algoritmo SMOTE.\n",
    "\n",
    "\n",
    "    2.1. Oversampling : **SMOTE**\n",
    "\n",
    "    2.2. Combinación de under y oversampling: **SMOTEENN**\n",
    "    \n",
    "    2.3. Selección del método que se considere mejor."
   ]
  },
  {
   "attachments": {},
   "cell_type": "markdown",
   "metadata": {},
   "source": [
    "***Features selection:***\n",
    "\n",
    "---"
   ]
  },
  {
   "cell_type": "code",
   "execution_count": null,
   "metadata": {},
   "outputs": [],
   "source": [
    "from sklearn.preprocessing import StandardScaler"
   ]
  },
  {
   "cell_type": "code",
   "execution_count": 20,
   "metadata": {},
   "outputs": [],
   "source": [
    "selector = RFE(DecisionTreeClassifier(), n_features_to_select=10, step=1)\n",
    "selector = selector.fit(X_train, y_train)"
   ]
  },
  {
   "cell_type": "code",
   "execution_count": 21,
   "metadata": {},
   "outputs": [
    {
     "data": {
      "text/plain": [
       "array([ True,  True,  True,  True, False, False,  True, False, False,\n",
       "       False, False, False, False, False, False,  True, False,  True,\n",
       "       False, False,  True, False, False, False, False, False,  True,\n",
       "       False, False, False, False, False, False, False, False, False,\n",
       "       False, False, False, False, False, False, False, False, False,\n",
       "       False,  True, False, False, False, False, False, False, False,\n",
       "       False, False, False, False, False, False, False, False, False,\n",
       "       False, False, False, False, False, False, False, False, False,\n",
       "       False, False, False, False, False, False, False, False, False,\n",
       "       False, False, False, False, False, False, False])"
      ]
     },
     "execution_count": 21,
     "metadata": {},
     "output_type": "execute_result"
    }
   ],
   "source": [
    "selector.support_"
   ]
  },
  {
   "cell_type": "code",
   "execution_count": 22,
   "metadata": {},
   "outputs": [
    {
     "data": {
      "text/plain": [
       "array([ 1,  1,  1,  1, 10, 71,  1, 11,  8, 15, 69, 19,  9, 20, 13,  1, 27,\n",
       "        1,  3, 43,  1, 35, 24, 30, 28, 73,  1,  6, 26, 29, 16, 22, 67,  4,\n",
       "       25,  7, 21, 18, 17, 37, 31, 32, 12, 23, 14, 39,  1,  5, 34, 49, 62,\n",
       "       38, 66, 70, 72, 45, 57, 33, 51, 58, 65, 74, 75, 76, 59, 47, 53, 79,\n",
       "       44, 46, 42, 64, 41, 78, 77, 60, 36, 55, 63, 50, 68, 40, 56, 61, 54,\n",
       "        2, 52, 48])"
      ]
     },
     "execution_count": 22,
     "metadata": {},
     "output_type": "execute_result"
    }
   ],
   "source": [
    "selector.ranking_"
   ]
  },
  {
   "cell_type": "code",
   "execution_count": 26,
   "metadata": {},
   "outputs": [
    {
     "data": {
      "text/plain": [
       "Index(['capital-gain', 'capital-loss', 'hours-per-week', 'age',\n",
       "       'workclass_Private', 'education_Primary-school',\n",
       "       'education_Secondary-school', 'marital-status_Married-civ-spouse',\n",
       "       'occupation_Craft-repair', 'race_White'],\n",
       "      dtype='object')"
      ]
     },
     "execution_count": 26,
     "metadata": {},
     "output_type": "execute_result"
    }
   ],
   "source": [
    " # definido y ajustado el objeto selector RFE\n",
    "selected_features = X_train.columns[selector.support_]\n",
    "selected_features"
   ]
  },
  {
   "cell_type": "markdown",
   "metadata": {},
   "source": [
    "Sorprende que entre ellas esten Primary School y Secondary school"
   ]
  },
  {
   "cell_type": "code",
   "execution_count": 27,
   "metadata": {},
   "outputs": [
    {
     "data": {
      "text/plain": [
       "10"
      ]
     },
     "execution_count": 27,
     "metadata": {},
     "output_type": "execute_result"
    }
   ],
   "source": [
    "selector.n_features_to_select"
   ]
  },
  {
   "cell_type": "code",
   "execution_count": 31,
   "metadata": {},
   "outputs": [
    {
     "data": {
      "text/html": [
       "<div>\n",
       "<style scoped>\n",
       "    .dataframe tbody tr th:only-of-type {\n",
       "        vertical-align: middle;\n",
       "    }\n",
       "\n",
       "    .dataframe tbody tr th {\n",
       "        vertical-align: top;\n",
       "    }\n",
       "\n",
       "    .dataframe thead th {\n",
       "        text-align: right;\n",
       "    }\n",
       "</style>\n",
       "<table border=\"1\" class=\"dataframe\">\n",
       "  <thead>\n",
       "    <tr style=\"text-align: right;\">\n",
       "      <th></th>\n",
       "      <th>capital-gain</th>\n",
       "      <th>capital-loss</th>\n",
       "      <th>hours-per-week</th>\n",
       "      <th>age</th>\n",
       "      <th>workclass_Private</th>\n",
       "      <th>education_Primary-school</th>\n",
       "      <th>education_Secondary-school</th>\n",
       "      <th>marital-status_Married-civ-spouse</th>\n",
       "      <th>occupation_Craft-repair</th>\n",
       "      <th>race_White</th>\n",
       "      <th>class_&gt;50K</th>\n",
       "    </tr>\n",
       "  </thead>\n",
       "  <tbody>\n",
       "    <tr>\n",
       "      <th>0</th>\n",
       "      <td>2174</td>\n",
       "      <td>0</td>\n",
       "      <td>40</td>\n",
       "      <td>39</td>\n",
       "      <td>0</td>\n",
       "      <td>0</td>\n",
       "      <td>0</td>\n",
       "      <td>0</td>\n",
       "      <td>0</td>\n",
       "      <td>1</td>\n",
       "      <td>0</td>\n",
       "    </tr>\n",
       "    <tr>\n",
       "      <th>1</th>\n",
       "      <td>0</td>\n",
       "      <td>0</td>\n",
       "      <td>13</td>\n",
       "      <td>50</td>\n",
       "      <td>0</td>\n",
       "      <td>0</td>\n",
       "      <td>0</td>\n",
       "      <td>1</td>\n",
       "      <td>0</td>\n",
       "      <td>1</td>\n",
       "      <td>0</td>\n",
       "    </tr>\n",
       "    <tr>\n",
       "      <th>2</th>\n",
       "      <td>0</td>\n",
       "      <td>0</td>\n",
       "      <td>40</td>\n",
       "      <td>38</td>\n",
       "      <td>1</td>\n",
       "      <td>0</td>\n",
       "      <td>1</td>\n",
       "      <td>0</td>\n",
       "      <td>0</td>\n",
       "      <td>1</td>\n",
       "      <td>0</td>\n",
       "    </tr>\n",
       "    <tr>\n",
       "      <th>3</th>\n",
       "      <td>0</td>\n",
       "      <td>0</td>\n",
       "      <td>40</td>\n",
       "      <td>53</td>\n",
       "      <td>1</td>\n",
       "      <td>0</td>\n",
       "      <td>1</td>\n",
       "      <td>1</td>\n",
       "      <td>0</td>\n",
       "      <td>0</td>\n",
       "      <td>0</td>\n",
       "    </tr>\n",
       "    <tr>\n",
       "      <th>4</th>\n",
       "      <td>0</td>\n",
       "      <td>0</td>\n",
       "      <td>40</td>\n",
       "      <td>28</td>\n",
       "      <td>1</td>\n",
       "      <td>0</td>\n",
       "      <td>0</td>\n",
       "      <td>1</td>\n",
       "      <td>0</td>\n",
       "      <td>0</td>\n",
       "      <td>0</td>\n",
       "    </tr>\n",
       "  </tbody>\n",
       "</table>\n",
       "</div>"
      ],
      "text/plain": [
       "   capital-gain  capital-loss  hours-per-week  age  workclass_Private  \\\n",
       "0          2174             0              40   39                  0   \n",
       "1             0             0              13   50                  0   \n",
       "2             0             0              40   38                  1   \n",
       "3             0             0              40   53                  1   \n",
       "4             0             0              40   28                  1   \n",
       "\n",
       "   education_Primary-school  education_Secondary-school  \\\n",
       "0                         0                           0   \n",
       "1                         0                           0   \n",
       "2                         0                           1   \n",
       "3                         0                           1   \n",
       "4                         0                           0   \n",
       "\n",
       "   marital-status_Married-civ-spouse  occupation_Craft-repair  race_White  \\\n",
       "0                                  0                        0           1   \n",
       "1                                  1                        0           1   \n",
       "2                                  0                        0           1   \n",
       "3                                  1                        0           0   \n",
       "4                                  1                        0           0   \n",
       "\n",
       "   class_>50K  \n",
       "0           0  \n",
       "1           0  \n",
       "2           0  \n",
       "3           0  \n",
       "4           0  "
      ]
     },
     "execution_count": 31,
     "metadata": {},
     "output_type": "execute_result"
    }
   ],
   "source": [
    "df_fselected = df_train.loc[:,selector.get_feature_names_out()]\n",
    "df_fselected['class_>50K'] = df_train['class_>50K']\n",
    "#df_fselected.to_csv(os.getcwd()+'/data/processed/data_featureselected2.csv') # Guardar dataframe con features seleccionadas\n",
    "df_fselected.head()"
   ]
  },
  {
   "cell_type": "code",
   "execution_count": 41,
   "metadata": {},
   "outputs": [
    {
     "name": "stdout",
     "output_type": "stream",
     "text": [
      "Optimal number of features : 52\n"
     ]
    },
    {
     "data": {
      "image/png": "[encoded data removed]",
      "text/plain": [
       "<Figure size 800x500 with 1 Axes>"
      ]
     },
     "metadata": {},
     "output_type": "display_data"
    }
   ],
   "source": [
    "\n",
    "xgboost = XGBClassifier()\n",
    "\n",
    "min_features_to_select = 1  # Numero minimo de features seleccionadas\n",
    "rfecv = RFECV(\n",
    "    estimator=xgboost,\n",
    "    step=1,\n",
    "    scoring=\"recall\",\n",
    "    min_features_to_select=min_features_to_select,\n",
    "    cv=5  # Numero de particiones\n",
    ")\n",
    "rfecv.fit(df_train.drop(columns=['class_>50K']), df_train['class_>50K'])\n",
    "\n",
    "print(\"Optimal number of features : %d\" % rfecv.n_features_)\n",
    "\n",
    "# Grafica recall de las particiones\n",
    "plt.figure()\n",
    "plt.xlabel(\"Number of features selected\")\n",
    "plt.ylabel(\"Cross validation score (recall)\")\n",
    "plt.plot(\n",
    "    range(min_features_to_select, len(rfecv.cv_results_[\"mean_test_score\"]) + min_features_to_select),\n",
    "    rfecv.cv_results_[\"mean_test_score\"]\n",
    ")\n",
    "plt.show()\n"
   ]
  },
  {
   "attachments": {},
   "cell_type": "markdown",
   "metadata": {},
   "source": [
    "***Balancing data:***\n",
    "\n",
    "---"
   ]
  },
  {
   "attachments": {},
   "cell_type": "markdown",
   "metadata": {},
   "source": [
    "*`Dataset completo (sin feature selection)`*\n"
   ]
  },
  {
   "cell_type": "code",
   "execution_count": 25,
   "metadata": {},
   "outputs": [],
   "source": [
    "from sklearn.pipeline import make_pipeline\n",
    "from sklearn.metrics import classification_report"
   ]
  },
  {
   "cell_type": "code",
   "execution_count": 26,
   "metadata": {},
   "outputs": [
    {
     "name": "stdout",
     "output_type": "stream",
     "text": [
      "              precision    recall  f1-score   support\n",
      "\n",
      "           0       0.87      0.95      0.91      1265\n",
      "           1       0.72      0.44      0.55       335\n",
      "\n",
      "    accuracy                           0.85      1600\n",
      "   macro avg       0.79      0.70      0.73      1600\n",
      "weighted avg       0.84      0.85      0.83      1600\n",
      "\n"
     ]
    }
   ],
   "source": [
    "\n",
    "pipe = make_pipeline(StandardScaler(), XGBClassifier())\n",
    "pipe.fit(X_train,y_train)\n",
    "y_pred = pipe.predict(X_val)\n",
    "print(classification_report(y_val, y_pred))"
   ]
  },
  {
   "cell_type": "code",
   "execution_count": 27,
   "metadata": {},
   "outputs": [
    {
     "name": "stdout",
     "output_type": "stream",
     "text": [
      "              precision    recall  f1-score   support\n",
      "\n",
      "           0       0.89      0.87      0.88      1265\n",
      "           1       0.55      0.60      0.57       335\n",
      "\n",
      "    accuracy                           0.81      1600\n",
      "   macro avg       0.72      0.73      0.73      1600\n",
      "weighted avg       0.82      0.81      0.82      1600\n",
      "\n"
     ]
    }
   ],
   "source": [
    "pipe = make_pipeline(StandardScaler(), XGBClassifier())\n",
    "pipe.fit(X_train_SMOTE,y_train_SMOTE)\n",
    "y_pred = pipe.predict(X_val)\n",
    "print(classification_report(y_val, y_pred))"
   ]
  },
  {
   "cell_type": "code",
   "execution_count": 28,
   "metadata": {},
   "outputs": [
    {
     "name": "stdout",
     "output_type": "stream",
     "text": [
      "              precision    recall  f1-score   support\n",
      "\n",
      "           0       0.88      0.84      0.86      1265\n",
      "           1       0.48      0.56      0.52       335\n",
      "\n",
      "    accuracy                           0.78      1600\n",
      "   macro avg       0.68      0.70      0.69      1600\n",
      "weighted avg       0.80      0.78      0.79      1600\n",
      "\n"
     ]
    }
   ],
   "source": [
    "pipe = make_pipeline(StandardScaler(), XGBClassifier())\n",
    "pipe.fit(X_train_SMOTEENN,y_train_SMOTEENN)\n",
    "y_pred = pipe.predict(X_val)\n",
    "print(classification_report(y_val, y_pred))"
   ]
  },
  {
   "attachments": {},
   "cell_type": "markdown",
   "metadata": {},
   "source": [
    "*`Dataset después del feature selection (7 variables independientes)`*"
   ]
  },
  {
   "cell_type": "code",
   "execution_count": 30,
   "metadata": {},
   "outputs": [],
   "source": [
    "data_FS = df_fselected.copy()\n",
    "\n",
    "X_FS = data_FS.drop([target], axis=1)\n",
    "\n",
    "y_FS = data_FS[target].copy()\n",
    "\n",
    "X_train_FS, X_test_FS, y_train_FS, y_test_FS = train_test_split(X_FS, y_FS, test_size = 0.2, random_state = 77)"
   ]
  },
  {
   "cell_type": "code",
   "execution_count": 31,
   "metadata": {},
   "outputs": [
    {
     "name": "stdout",
     "output_type": "stream",
     "text": [
      "Before OverSampling, the shape of train_X: (5120, 7)\n",
      "Before OverSampling, the shape of train_y: (5120,) \n",
      "\n"
     ]
    }
   ],
   "source": [
    "print('Before OverSampling, the shape of train_X: {}'.format(X_train_FS.shape)) \n",
    "print('Before OverSampling, the shape of train_y: {} \\n'.format(y_train_FS.shape)) "
   ]
  },
  {
   "cell_type": "code",
   "execution_count": 32,
   "metadata": {},
   "outputs": [
    {
     "data": {
      "text/plain": [
       "<Axes: ylabel='count'>"
      ]
     },
     "execution_count": 32,
     "metadata": {},
     "output_type": "execute_result"
    },
    {
     "data": {
      "image/png": "[encoded data removed]",
      "text/plain": [
       "<Figure size 1500x800 with 1 Axes>"
      ]
     },
     "metadata": {},
     "output_type": "display_data"
    }
   ],
   "source": [
    "# Apply Oversampling\n",
    "sm = SMOTE(random_state = 77) \n",
    "X_train_FSSMOTE, y_train_FSSMOTE = sm.fit_resample(X_train_FS, y_train_FS.ravel()) \n",
    "\n",
    "sns.countplot(x=y_train_FSSMOTE,palette='coolwarm')"
   ]
  },
  {
   "cell_type": "code",
   "execution_count": 33,
   "metadata": {},
   "outputs": [
    {
     "data": {
      "image/png": "[encoded data removed]",
      "text/plain": [
       "<Figure size 1500x800 with 1 Axes>"
      ]
     },
     "metadata": {},
     "output_type": "display_data"
    }
   ],
   "source": [
    "sns.set(rc={'figure.figsize':(15, 8)})\n",
    "colors = sns.color_palette(\"Blues\")\n",
    "\n",
    "labels = ['Churn: 1','Not churn: 0']\n",
    "sizes =  [y_train_FSSMOTE.sum(),len(y_train_FSSMOTE)-y_train_FSSMOTE.sum()]\n",
    "explode = (0, 0.1)  \n",
    "\n",
    "fig1, ax1 = plt.subplots()\n",
    "ax1.pie(sizes, explode=explode, labels=labels,colors=colors, autopct='%1.1f%%',\n",
    "        shadow=True, startangle=90)\n",
    "ax1.axis('equal') \n",
    "plt.show()"
   ]
  },
  {
   "cell_type": "code",
   "execution_count": 34,
   "metadata": {},
   "outputs": [],
   "source": [
    "# Apply Combining\n",
    "sm = SMOTEENN(random_state = 77) \n",
    "X_train_FSSMOTEENN, y_train_FSSMOTEENN = sm.fit_resample(X_train_FS, y_train_FS.ravel()) "
   ]
  },
  {
   "cell_type": "code",
   "execution_count": 35,
   "metadata": {},
   "outputs": [
    {
     "data": {
      "text/plain": [
       "<Axes: ylabel='count'>"
      ]
     },
     "execution_count": 35,
     "metadata": {},
     "output_type": "execute_result"
    },
    {
     "data": {
      "image/png": "[encoded data removed]",
      "text/plain": [
       "<Figure size 1500x800 with 1 Axes>"
      ]
     },
     "metadata": {},
     "output_type": "display_data"
    }
   ],
   "source": [
    "sns.countplot(x=y_train_FSSMOTEENN,palette='coolwarm')"
   ]
  },
  {
   "cell_type": "code",
   "execution_count": 36,
   "metadata": {},
   "outputs": [
    {
     "data": {
      "image/png": "[encoded data removed]",
      "text/plain": [
       "<Figure size 1500x800 with 1 Axes>"
      ]
     },
     "metadata": {},
     "output_type": "display_data"
    }
   ],
   "source": [
    "sns.set(rc={'figure.figsize':(15, 8)})\n",
    "colors = sns.color_palette(\"Blues\")\n",
    "\n",
    "labels = ['Churn: 1','Not churn: 0']\n",
    "sizes =  [y_train_FSSMOTEENN.sum(),len(y_train_FSSMOTEENN)-y_train_FSSMOTEENN.sum()]\n",
    "explode = (0, 0.1)  \n",
    "\n",
    "fig1, ax1 = plt.subplots()\n",
    "ax1.pie(sizes, explode=explode, labels=labels,colors=colors, autopct='%1.1f%%',\n",
    "        shadow=True, startangle=90)\n",
    "ax1.axis('equal') \n",
    "plt.show()"
   ]
  },
  {
   "cell_type": "code",
   "execution_count": 37,
   "metadata": {},
   "outputs": [
    {
     "name": "stdout",
     "output_type": "stream",
     "text": [
      "              precision    recall  f1-score   support\n",
      "\n",
      "           0       0.87      0.95      0.91      1011\n",
      "           1       0.71      0.46      0.56       269\n",
      "\n",
      "    accuracy                           0.85      1280\n",
      "   macro avg       0.79      0.71      0.73      1280\n",
      "weighted avg       0.84      0.85      0.83      1280\n",
      "\n"
     ]
    }
   ],
   "source": [
    "\n",
    "pipe = make_pipeline(StandardScaler(), XGBClassifier())\n",
    "pipe.fit(X_train_FS,y_train_FS)\n",
    "y_pred = pipe.predict(X_test_FS)\n",
    "print(classification_report(y_test_FS, y_pred))"
   ]
  },
  {
   "cell_type": "code",
   "execution_count": 38,
   "metadata": {},
   "outputs": [
    {
     "name": "stdout",
     "output_type": "stream",
     "text": [
      "              precision    recall  f1-score   support\n",
      "\n",
      "           0       0.90      0.84      0.87      1011\n",
      "           1       0.51      0.64      0.57       269\n",
      "\n",
      "    accuracy                           0.80      1280\n",
      "   macro avg       0.70      0.74      0.72      1280\n",
      "weighted avg       0.82      0.80      0.80      1280\n",
      "\n"
     ]
    }
   ],
   "source": [
    "pipe = make_pipeline(StandardScaler(), XGBClassifier())\n",
    "pipe.fit(X_train_FSSMOTE,y_train_FSSMOTE)\n",
    "y_pred = pipe.predict(X_test_FS)\n",
    "print(classification_report(y_test_FS, y_pred))"
   ]
  },
  {
   "cell_type": "code",
   "execution_count": 39,
   "metadata": {},
   "outputs": [
    {
     "name": "stdout",
     "output_type": "stream",
     "text": [
      "              precision    recall  f1-score   support\n",
      "\n",
      "           0       0.88      0.81      0.84      1011\n",
      "           1       0.45      0.61      0.52       269\n",
      "\n",
      "    accuracy                           0.76      1280\n",
      "   macro avg       0.67      0.71      0.68      1280\n",
      "weighted avg       0.79      0.76      0.77      1280\n",
      "\n"
     ]
    }
   ],
   "source": [
    "pipe = make_pipeline(StandardScaler(), XGBClassifier())\n",
    "pipe.fit(X_train_FSSMOTEENN,y_train_FSSMOTEENN)\n",
    "y_pred = pipe.predict(X_test_FS)\n",
    "print(classification_report(y_test_FS, y_pred))"
   ]
  },
  {
   "attachments": {},
   "cell_type": "markdown",
   "metadata": {},
   "source": [
    "**Observaciones:**\n",
    "\n",
    "Se puede ver que utilizando como prueba el modelo XGBoostClassifier() las mejores métricas están entre: \n",
    "\n",
    "- Dataset balanceado SMOTE con feature selection: mejores métricas de modo general. \n",
    "- Dataset balanceado con SMOTE sin la feature selection: mejor recall, sin embargo disminuyen las otras métricas\n",
    "\n",
    "**Propuesta:**\n",
    "\n",
    "- Prueba con ajuste de hiperparámetros para confirmar los datos obtenidos de la prueba general.\n"
   ]
  },
  {
   "attachments": {},
   "cell_type": "markdown",
   "metadata": {},
   "source": [
    "##  **2.3. Modelado**<a id='23'></a>"
   ]
  },
  {
   "attachments": {},
   "cell_type": "markdown",
   "metadata": {},
   "source": [
    "## Baseline con feature selection data:\n",
    "\n",
    "Se realiza la `prueba general de modelos` para ver cual de ellos tiene las mejores métricas ***habiendo realizado feature selection***. Aún sin aplicarle el balanceo ni el ajuste de parámetros."
   ]
  },
  {
   "cell_type": "code",
   "execution_count": 35,
   "metadata": {},
   "outputs": [
    {
     "name": "stdout",
     "output_type": "stream",
     "text": [
      "Saved\n",
      "Saved\n",
      "Saved\n",
      "Saved\n",
      "Saved\n",
      "Saved\n",
      "Saved\n",
      "Saved\n",
      "Saved\n",
      "Saved\n",
      "Saved\n"
     ]
    }
   ],
   "source": [
    "modelos = choose_models('all',None,clf = True)\n",
    "\n",
    "for modelo in list(modelos.keys()):\n",
    "    y_pred, metrics, model = baseline(X_train_FS,y_train_FS, X_test_FS, y_test_FS, base_model = modelos[modelo], clf = True,file_name='baseline_fs_metrics.csv')\n",
    "    "
   ]
  },
  {
   "cell_type": "code",
   "execution_count": 42,
   "metadata": {},
   "outputs": [
    {
     "data": {
      "text/html": [
       "<div>\n",
       "<style scoped>\n",
       "    .dataframe tbody tr th:only-of-type {\n",
       "        vertical-align: middle;\n",
       "    }\n",
       "\n",
       "    .dataframe tbody tr th {\n",
       "        vertical-align: top;\n",
       "    }\n",
       "\n",
       "    .dataframe thead th {\n",
       "        text-align: right;\n",
       "    }\n",
       "</style>\n",
       "<table border=\"1\" class=\"dataframe\">\n",
       "  <thead>\n",
       "    <tr style=\"text-align: right;\">\n",
       "      <th></th>\n",
       "      <th>model</th>\n",
       "      <th>ACC</th>\n",
       "      <th>Precision</th>\n",
       "      <th>Recall</th>\n",
       "      <th>F1</th>\n",
       "      <th>ROC</th>\n",
       "      <th>Jaccard</th>\n",
       "    </tr>\n",
       "  </thead>\n",
       "  <tbody>\n",
       "    <tr>\n",
       "      <th>3</th>\n",
       "      <td>DecisionTreeClassifier</td>\n",
       "      <td>0.777344</td>\n",
       "      <td>0.47183098591549294</td>\n",
       "      <td>0.498141</td>\n",
       "      <td>0.484629</td>\n",
       "      <td>0.674887</td>\n",
       "      <td>0.319809</td>\n",
       "    </tr>\n",
       "    <tr>\n",
       "      <th>4</th>\n",
       "      <td>RandomForestClassifier</td>\n",
       "      <td>0.860938</td>\n",
       "      <td>0.7898089171974523</td>\n",
       "      <td>0.460967</td>\n",
       "      <td>0.582160</td>\n",
       "      <td>0.714163</td>\n",
       "      <td>0.410596</td>\n",
       "    </tr>\n",
       "    <tr>\n",
       "      <th>9</th>\n",
       "      <td>XGBClassifier</td>\n",
       "      <td>0.847656</td>\n",
       "      <td>0.7126436781609196</td>\n",
       "      <td>0.460967</td>\n",
       "      <td>0.559819</td>\n",
       "      <td>0.705755</td>\n",
       "      <td>0.388715</td>\n",
       "    </tr>\n",
       "    <tr>\n",
       "      <th>6</th>\n",
       "      <td>AdaBoostClassifier</td>\n",
       "      <td>0.844531</td>\n",
       "      <td>0.6988636363636364</td>\n",
       "      <td>0.457249</td>\n",
       "      <td>0.552809</td>\n",
       "      <td>0.702413</td>\n",
       "      <td>0.381988</td>\n",
       "    </tr>\n",
       "    <tr>\n",
       "      <th>7</th>\n",
       "      <td>GradientBoostingClassifier</td>\n",
       "      <td>0.858594</td>\n",
       "      <td>0.7784810126582279</td>\n",
       "      <td>0.457249</td>\n",
       "      <td>0.576112</td>\n",
       "      <td>0.711315</td>\n",
       "      <td>0.404605</td>\n",
       "    </tr>\n",
       "    <tr>\n",
       "      <th>10</th>\n",
       "      <td>VotingClassifier</td>\n",
       "      <td>0.856250</td>\n",
       "      <td>0.7672955974842768</td>\n",
       "      <td>0.453532</td>\n",
       "      <td>0.570093</td>\n",
       "      <td>0.708467</td>\n",
       "      <td>0.398693</td>\n",
       "    </tr>\n",
       "    <tr>\n",
       "      <th>5</th>\n",
       "      <td>BaggingClassifier</td>\n",
       "      <td>0.837500</td>\n",
       "      <td>0.6783625730994152</td>\n",
       "      <td>0.431227</td>\n",
       "      <td>0.527273</td>\n",
       "      <td>0.688413</td>\n",
       "      <td>0.358025</td>\n",
       "    </tr>\n",
       "    <tr>\n",
       "      <th>11</th>\n",
       "      <td>LinearDiscriminantAnalysis</td>\n",
       "      <td>0.812500</td>\n",
       "      <td>0.6593406593406593</td>\n",
       "      <td>0.223048</td>\n",
       "      <td>0.333333</td>\n",
       "      <td>0.596193</td>\n",
       "      <td>0.200000</td>\n",
       "    </tr>\n",
       "    <tr>\n",
       "      <th>2</th>\n",
       "      <td>KNeighborsClassifier</td>\n",
       "      <td>0.767188</td>\n",
       "      <td>0.3253012048192771</td>\n",
       "      <td>0.100372</td>\n",
       "      <td>0.153409</td>\n",
       "      <td>0.522491</td>\n",
       "      <td>0.083077</td>\n",
       "    </tr>\n",
       "    <tr>\n",
       "      <th>0</th>\n",
       "      <td>LogisticRegression</td>\n",
       "      <td>0.792188</td>\n",
       "      <td>0.5348837209302325</td>\n",
       "      <td>0.085502</td>\n",
       "      <td>0.147436</td>\n",
       "      <td>0.532860</td>\n",
       "      <td>0.079585</td>\n",
       "    </tr>\n",
       "    <tr>\n",
       "      <th>1</th>\n",
       "      <td>LogisticRegression</td>\n",
       "      <td>0.792188</td>\n",
       "      <td>0.5348837209302325</td>\n",
       "      <td>0.085502</td>\n",
       "      <td>0.147436</td>\n",
       "      <td>0.532860</td>\n",
       "      <td>0.079585</td>\n",
       "    </tr>\n",
       "    <tr>\n",
       "      <th>8</th>\n",
       "      <td>SVC</td>\n",
       "      <td>0.789844</td>\n",
       "      <td>0.00.00.00.5</td>\n",
       "      <td>0.000000</td>\n",
       "      <td>NaN</td>\n",
       "      <td>NaN</td>\n",
       "      <td>NaN</td>\n",
       "    </tr>\n",
       "  </tbody>\n",
       "</table>\n",
       "</div>"
      ],
      "text/plain": [
       "                         model       ACC            Precision    Recall   \n",
       "3       DecisionTreeClassifier  0.777344  0.47183098591549294  0.498141  \\\n",
       "4       RandomForestClassifier  0.860938   0.7898089171974523  0.460967   \n",
       "9                XGBClassifier  0.847656   0.7126436781609196  0.460967   \n",
       "6           AdaBoostClassifier  0.844531   0.6988636363636364  0.457249   \n",
       "7   GradientBoostingClassifier  0.858594   0.7784810126582279  0.457249   \n",
       "10            VotingClassifier  0.856250   0.7672955974842768  0.453532   \n",
       "5            BaggingClassifier  0.837500   0.6783625730994152  0.431227   \n",
       "11  LinearDiscriminantAnalysis  0.812500   0.6593406593406593  0.223048   \n",
       "2         KNeighborsClassifier  0.767188   0.3253012048192771  0.100372   \n",
       "0           LogisticRegression  0.792188   0.5348837209302325  0.085502   \n",
       "1           LogisticRegression  0.792188   0.5348837209302325  0.085502   \n",
       "8                          SVC  0.789844         0.00.00.00.5  0.000000   \n",
       "\n",
       "          F1       ROC   Jaccard  \n",
       "3   0.484629  0.674887  0.319809  \n",
       "4   0.582160  0.714163  0.410596  \n",
       "9   0.559819  0.705755  0.388715  \n",
       "6   0.552809  0.702413  0.381988  \n",
       "7   0.576112  0.711315  0.404605  \n",
       "10  0.570093  0.708467  0.398693  \n",
       "5   0.527273  0.688413  0.358025  \n",
       "11  0.333333  0.596193  0.200000  \n",
       "2   0.153409  0.522491  0.083077  \n",
       "0   0.147436  0.532860  0.079585  \n",
       "1   0.147436  0.532860  0.079585  \n",
       "8        NaN       NaN       NaN  "
      ]
     },
     "execution_count": 42,
     "metadata": {},
     "output_type": "execute_result"
    }
   ],
   "source": [
    "saved_metrics = pd.read_csv('model/model_metrics/baseline_fs_metrics.csv',sep=';').sort_values(by='Recall',ascending=False)\n",
    "saved_metrics"
   ]
  },
  {
   "cell_type": "code",
   "execution_count": 45,
   "metadata": {},
   "outputs": [
    {
     "data": {
      "image/png": "[encoded data removed]",
      "text/plain": [
       "<Figure size 1500x800 with 1 Axes>"
      ]
     },
     "metadata": {},
     "output_type": "display_data"
    }
   ],
   "source": [
    "models_comparation(saved_metrics)"
   ]
  },
  {
   "attachments": {},
   "cell_type": "markdown",
   "metadata": {},
   "source": [
    "## Ajuste de hiperparámetros:\n",
    "\n",
    "Con este apartado se pretende `mejorar estimadores` realizando el ***ajuste de hiperparámetros***.  \n",
    "\n",
    "Se seleccionan los cuatro estimadores que han ido liderando la tabla de métricas y se realiza de nuevo su modelado buscando aquellos parámetros que puedan optimizar el modelo.\n",
    "\n",
    "- En primer, lugar se ajustan los hiperparámetros utilizando el dataset al que se le ha realizado el feature selection.\n",
    "- Se ajusta los hiperparámetros con el dataset al que se le ha realizado feature selection y balanceo SMOTE.\n",
    "- Se ajustan los hiperparámetros con el dataset completo y el balanceo aplicado sobre el mismo con el método SMOTE."
   ]
  },
  {
   "cell_type": "code",
   "execution_count": 46,
   "metadata": {},
   "outputs": [
    {
     "name": "stdout",
     "output_type": "stream",
     "text": [
      "Model DecisionTreeClassifier saved\n",
      "<class 'list'>\n",
      "Saved\n",
      "fs_metrics.csv saved\n",
      "Model XGBClassifier saved\n",
      "Saved\n",
      "fs_metrics.csv saved\n",
      "Model GradientBoostingClassifier saved\n",
      "Saved\n",
      "fs_metrics.csv saved\n"
     ]
    }
   ],
   "source": [
    "mods = ['DTC', 'XGBC','GBC'] # Nota: no se usa el RandomForest por tiempo\n",
    "\n",
    "for mod in mods:    \n",
    "    models_generator(X_train_FS, y_train_FS, X_test_FS, y_test_FS,choose_models(mod,params=None),choose_params(mod),\n",
    "    file_name='fs_metrics.csv',dir_file='model/model_metrics',dir_model_file='model',scaling=False,\n",
    "    scoring = { \"AUC\": \"roc_auc\",\"Accuracy\": make_scorer(accuracy_score), \"Recall\": make_scorer(recall_score)}, balancing = False)"
   ]
  },
  {
   "cell_type": "code",
   "execution_count": 47,
   "metadata": {},
   "outputs": [
    {
     "data": {
      "text/html": [
       "<div>\n",
       "<style scoped>\n",
       "    .dataframe tbody tr th:only-of-type {\n",
       "        vertical-align: middle;\n",
       "    }\n",
       "\n",
       "    .dataframe tbody tr th {\n",
       "        vertical-align: top;\n",
       "    }\n",
       "\n",
       "    .dataframe thead th {\n",
       "        text-align: right;\n",
       "    }\n",
       "</style>\n",
       "<table border=\"1\" class=\"dataframe\">\n",
       "  <thead>\n",
       "    <tr style=\"text-align: right;\">\n",
       "      <th></th>\n",
       "      <th>model</th>\n",
       "      <th>params_tried</th>\n",
       "      <th>best_params</th>\n",
       "      <th>ACC</th>\n",
       "      <th>Precision</th>\n",
       "      <th>Recall</th>\n",
       "      <th>F1</th>\n",
       "      <th>ROC</th>\n",
       "      <th>Jaccard</th>\n",
       "      <th>model_path</th>\n",
       "    </tr>\n",
       "  </thead>\n",
       "  <tbody>\n",
       "    <tr>\n",
       "      <th>0</th>\n",
       "      <td>DecisionTreeClassifier</td>\n",
       "      <td>{'criterion': ['log_loss', 'gini', 'entropy'],...</td>\n",
       "      <td>{'class_weight': 'balanced', 'criterion': 'ent...</td>\n",
       "      <td>0.742969</td>\n",
       "      <td>0.421875</td>\n",
       "      <td>0.602230</td>\n",
       "      <td>0.496172</td>\n",
       "      <td>0.691323</td>\n",
       "      <td>0.329939</td>\n",
       "      <td>model/DecisionTreeClassifier_1.pkl</td>\n",
       "    </tr>\n",
       "    <tr>\n",
       "      <th>2</th>\n",
       "      <td>GradientBoostingClassifier</td>\n",
       "      <td>[{'learning_rate': [0.1, 0.05, 0.01, 0.001], '...</td>\n",
       "      <td>{'criterion': 'friedman_mse', 'learning_rate':...</td>\n",
       "      <td>0.791406</td>\n",
       "      <td>0.503876</td>\n",
       "      <td>0.483271</td>\n",
       "      <td>0.493359</td>\n",
       "      <td>0.678332</td>\n",
       "      <td>0.327456</td>\n",
       "      <td>model/GradientBoostingClassifier.pkl</td>\n",
       "    </tr>\n",
       "    <tr>\n",
       "      <th>1</th>\n",
       "      <td>XGBClassifier</td>\n",
       "      <td>{'nthread': [4], 'objective': ['binary:logisti...</td>\n",
       "      <td>{'colsample_bytree': 1.0, 'learning_rate': 0.0...</td>\n",
       "      <td>0.858594</td>\n",
       "      <td>0.761905</td>\n",
       "      <td>0.475836</td>\n",
       "      <td>0.585812</td>\n",
       "      <td>0.718136</td>\n",
       "      <td>0.414239</td>\n",
       "      <td>model/XGBClassifier.pkl</td>\n",
       "    </tr>\n",
       "  </tbody>\n",
       "</table>\n",
       "</div>"
      ],
      "text/plain": [
       "                        model   \n",
       "0      DecisionTreeClassifier  \\\n",
       "2  GradientBoostingClassifier   \n",
       "1               XGBClassifier   \n",
       "\n",
       "                                        params_tried   \n",
       "0  {'criterion': ['log_loss', 'gini', 'entropy'],...  \\\n",
       "2  [{'learning_rate': [0.1, 0.05, 0.01, 0.001], '...   \n",
       "1  {'nthread': [4], 'objective': ['binary:logisti...   \n",
       "\n",
       "                                         best_params       ACC  Precision   \n",
       "0  {'class_weight': 'balanced', 'criterion': 'ent...  0.742969   0.421875  \\\n",
       "2  {'criterion': 'friedman_mse', 'learning_rate':...  0.791406   0.503876   \n",
       "1  {'colsample_bytree': 1.0, 'learning_rate': 0.0...  0.858594   0.761905   \n",
       "\n",
       "     Recall        F1       ROC   Jaccard   \n",
       "0  0.602230  0.496172  0.691323  0.329939  \\\n",
       "2  0.483271  0.493359  0.678332  0.327456   \n",
       "1  0.475836  0.585812  0.718136  0.414239   \n",
       "\n",
       "                             model_path  \n",
       "0    model/DecisionTreeClassifier_1.pkl  \n",
       "2  model/GradientBoostingClassifier.pkl  \n",
       "1               model/XGBClassifier.pkl  "
      ]
     },
     "execution_count": 47,
     "metadata": {},
     "output_type": "execute_result"
    }
   ],
   "source": [
    "saved_fs_metrics = pd.read_csv('model/model_metrics/fs_metrics.csv',sep=';').sort_values(by='Recall',ascending=False)\n",
    "saved_fs_metrics"
   ]
  },
  {
   "cell_type": "code",
   "execution_count": 48,
   "metadata": {},
   "outputs": [
    {
     "name": "stdout",
     "output_type": "stream",
     "text": [
      "Model DecisionTreeClassifier saved\n",
      "<class 'list'>\n",
      "Saved\n",
      "fs_balanced_metrics.csv saved\n",
      "Model XGBClassifier saved\n",
      "Saved\n",
      "fs_balanced_metrics.csv saved\n"
     ]
    }
   ],
   "source": [
    "mods = ['DTC', 'XGBC'] # Nota: no se usa el RandomForest por tiempo\n",
    "\n",
    "for mod in mods:    \n",
    "    models_generator(X_train_FSSMOTE, y_train_FSSMOTE, X_test_FS, y_test_FS,choose_models(mod,params=None),choose_params(mod),\n",
    "    file_name='fs_balanced_metrics.csv',dir_file='model/model_metrics',dir_model_file='model',scaling=False,\n",
    "    scoring = { \"AUC\": \"roc_auc\",\"Accuracy\": make_scorer(accuracy_score), \"Recall\": make_scorer(recall_score)}, balancing = False)"
   ]
  },
  {
   "cell_type": "code",
   "execution_count": 49,
   "metadata": {},
   "outputs": [
    {
     "data": {
      "text/html": [
       "<div>\n",
       "<style scoped>\n",
       "    .dataframe tbody tr th:only-of-type {\n",
       "        vertical-align: middle;\n",
       "    }\n",
       "\n",
       "    .dataframe tbody tr th {\n",
       "        vertical-align: top;\n",
       "    }\n",
       "\n",
       "    .dataframe thead th {\n",
       "        text-align: right;\n",
       "    }\n",
       "</style>\n",
       "<table border=\"1\" class=\"dataframe\">\n",
       "  <thead>\n",
       "    <tr style=\"text-align: right;\">\n",
       "      <th></th>\n",
       "      <th>model</th>\n",
       "      <th>params_tried</th>\n",
       "      <th>best_params</th>\n",
       "      <th>ACC</th>\n",
       "      <th>Precision</th>\n",
       "      <th>Recall</th>\n",
       "      <th>F1</th>\n",
       "      <th>ROC</th>\n",
       "      <th>Jaccard</th>\n",
       "      <th>model_path</th>\n",
       "    </tr>\n",
       "  </thead>\n",
       "  <tbody>\n",
       "    <tr>\n",
       "      <th>0</th>\n",
       "      <td>DecisionTreeClassifier</td>\n",
       "      <td>{'criterion': ['log_loss', 'gini', 'entropy'],...</td>\n",
       "      <td>{'class_weight': 'balanced', 'criterion': 'gin...</td>\n",
       "      <td>0.757031</td>\n",
       "      <td>0.449275</td>\n",
       "      <td>0.691450</td>\n",
       "      <td>0.544656</td>\n",
       "      <td>0.732965</td>\n",
       "      <td>0.374245</td>\n",
       "      <td>model/DecisionTreeClassifier_2.pkl</td>\n",
       "    </tr>\n",
       "    <tr>\n",
       "      <th>1</th>\n",
       "      <td>XGBClassifier</td>\n",
       "      <td>{'nthread': [4], 'objective': ['binary:logisti...</td>\n",
       "      <td>{'colsample_bytree': 1.0, 'learning_rate': 0.0...</td>\n",
       "      <td>0.794531</td>\n",
       "      <td>0.508475</td>\n",
       "      <td>0.669145</td>\n",
       "      <td>0.577849</td>\n",
       "      <td>0.748519</td>\n",
       "      <td>0.406321</td>\n",
       "      <td>model/XGBClassifier_1.pkl</td>\n",
       "    </tr>\n",
       "  </tbody>\n",
       "</table>\n",
       "</div>"
      ],
      "text/plain": [
       "                    model                                       params_tried   \n",
       "0  DecisionTreeClassifier  {'criterion': ['log_loss', 'gini', 'entropy'],...  \\\n",
       "1           XGBClassifier  {'nthread': [4], 'objective': ['binary:logisti...   \n",
       "\n",
       "                                         best_params       ACC  Precision   \n",
       "0  {'class_weight': 'balanced', 'criterion': 'gin...  0.757031   0.449275  \\\n",
       "1  {'colsample_bytree': 1.0, 'learning_rate': 0.0...  0.794531   0.508475   \n",
       "\n",
       "     Recall        F1       ROC   Jaccard                          model_path  \n",
       "0  0.691450  0.544656  0.732965  0.374245  model/DecisionTreeClassifier_2.pkl  \n",
       "1  0.669145  0.577849  0.748519  0.406321           model/XGBClassifier_1.pkl  "
      ]
     },
     "execution_count": 49,
     "metadata": {},
     "output_type": "execute_result"
    }
   ],
   "source": [
    "saved_fs_balanced_metrics = pd.read_csv('model/model_metrics/fs_balanced_metrics.csv',sep=';').sort_values(by='Recall',ascending=False)\n",
    "saved_fs_balanced_metrics"
   ]
  },
  {
   "cell_type": "code",
   "execution_count": 52,
   "metadata": {},
   "outputs": [
    {
     "name": "stdout",
     "output_type": "stream",
     "text": [
      "Model DecisionTreeClassifier saved\n",
      "<class 'list'>\n",
      "Saved\n",
      "metrics_balanced.csv saved\n",
      "Model XGBClassifier saved\n",
      "Saved\n",
      "metrics_balanced.csv saved\n"
     ]
    }
   ],
   "source": [
    "mods = ['DTC','XGBC']\n",
    "\n",
    "for mod in mods:    \n",
    "    models_generator(X_train_SMOTE, y_train_SMOTE, X_val, y_val,choose_models(mod,params=None),choose_params(mod),\n",
    "    file_name='metrics_balanced.csv',dir_file='model/model_metrics',dir_model_file='model',scaling = True,\n",
    "    scoring = { \"Accuracy\": make_scorer(accuracy_score),\"Recall\": make_scorer(recall_score)}, balancing = True)"
   ]
  },
  {
   "cell_type": "code",
   "execution_count": 53,
   "metadata": {},
   "outputs": [
    {
     "data": {
      "text/html": [
       "<div>\n",
       "<style scoped>\n",
       "    .dataframe tbody tr th:only-of-type {\n",
       "        vertical-align: middle;\n",
       "    }\n",
       "\n",
       "    .dataframe tbody tr th {\n",
       "        vertical-align: top;\n",
       "    }\n",
       "\n",
       "    .dataframe thead th {\n",
       "        text-align: right;\n",
       "    }\n",
       "</style>\n",
       "<table border=\"1\" class=\"dataframe\">\n",
       "  <thead>\n",
       "    <tr style=\"text-align: right;\">\n",
       "      <th></th>\n",
       "      <th>model</th>\n",
       "      <th>params_tried</th>\n",
       "      <th>best_params</th>\n",
       "      <th>ACC</th>\n",
       "      <th>Precision</th>\n",
       "      <th>Recall</th>\n",
       "      <th>F1</th>\n",
       "      <th>ROC</th>\n",
       "      <th>Jaccard</th>\n",
       "      <th>model_path</th>\n",
       "    </tr>\n",
       "  </thead>\n",
       "  <tbody>\n",
       "    <tr>\n",
       "      <th>1</th>\n",
       "      <td>XGBClassifier</td>\n",
       "      <td>{'nthread': [4], 'objective': ['binary:logisti...</td>\n",
       "      <td>{'colsample_bytree': 0.6, 'learning_rate': 0.0...</td>\n",
       "      <td>0.79375</td>\n",
       "      <td>0.505721</td>\n",
       "      <td>0.659701</td>\n",
       "      <td>0.572539</td>\n",
       "      <td>0.744475</td>\n",
       "      <td>0.401089</td>\n",
       "      <td>model/XGBClassifier_2.pkl</td>\n",
       "    </tr>\n",
       "    <tr>\n",
       "      <th>0</th>\n",
       "      <td>DecisionTreeClassifier</td>\n",
       "      <td>{'criterion': ['log_loss', 'gini', 'entropy'],...</td>\n",
       "      <td>{'class_weight': 'balanced', 'criterion': 'gin...</td>\n",
       "      <td>0.75375</td>\n",
       "      <td>0.437367</td>\n",
       "      <td>0.614925</td>\n",
       "      <td>0.511166</td>\n",
       "      <td>0.702720</td>\n",
       "      <td>0.343333</td>\n",
       "      <td>model/DecisionTreeClassifier_3.pkl</td>\n",
       "    </tr>\n",
       "  </tbody>\n",
       "</table>\n",
       "</div>"
      ],
      "text/plain": [
       "                    model                                       params_tried   \n",
       "1           XGBClassifier  {'nthread': [4], 'objective': ['binary:logisti...  \\\n",
       "0  DecisionTreeClassifier  {'criterion': ['log_loss', 'gini', 'entropy'],...   \n",
       "\n",
       "                                         best_params      ACC  Precision   \n",
       "1  {'colsample_bytree': 0.6, 'learning_rate': 0.0...  0.79375   0.505721  \\\n",
       "0  {'class_weight': 'balanced', 'criterion': 'gin...  0.75375   0.437367   \n",
       "\n",
       "     Recall        F1       ROC   Jaccard                          model_path  \n",
       "1  0.659701  0.572539  0.744475  0.401089           model/XGBClassifier_2.pkl  \n",
       "0  0.614925  0.511166  0.702720  0.343333  model/DecisionTreeClassifier_3.pkl  "
      ]
     },
     "execution_count": 53,
     "metadata": {},
     "output_type": "execute_result"
    }
   ],
   "source": [
    "saved_balanced_metrics = pd.read_csv('model/model_metrics/metrics_balanced.csv',sep=';').sort_values(by='Recall',ascending=False)\n",
    "saved_balanced_metrics"
   ]
  },
  {
   "attachments": {},
   "cell_type": "markdown",
   "metadata": {},
   "source": [
    "## Prueba con Perceptrón:\n",
    "\n",
    "Se realiza una comprobación de la `posibilidad de usar una red neuronal`, como el perceptrón, para resolver este problema de clasificación."
   ]
  },
  {
   "cell_type": "code",
   "execution_count": null,
   "metadata": {},
   "outputs": [],
   "source": [
    "y_pred,metricas,estimator = baseline(X_train, y_train, X_val, y_val, base_model = MLPClassifier(), clf = True,file_name='DL_metrics.csv')"
   ]
  },
  {
   "cell_type": "code",
   "execution_count": null,
   "metadata": {},
   "outputs": [],
   "source": [
    "y_pred,metricas,estimator = baseline(X_train_FS, y_train_FS, X_test_FS, y_test_FS, base_model = MLPClassifier(), clf = True,file_name='DL_metrics.csv')"
   ]
  },
  {
   "cell_type": "code",
   "execution_count": 16,
   "metadata": {},
   "outputs": [
    {
     "data": {
      "text/html": [
       "<div>\n",
       "<style scoped>\n",
       "    .dataframe tbody tr th:only-of-type {\n",
       "        vertical-align: middle;\n",
       "    }\n",
       "\n",
       "    .dataframe tbody tr th {\n",
       "        vertical-align: top;\n",
       "    }\n",
       "\n",
       "    .dataframe thead th {\n",
       "        text-align: right;\n",
       "    }\n",
       "</style>\n",
       "<table border=\"1\" class=\"dataframe\">\n",
       "  <thead>\n",
       "    <tr style=\"text-align: right;\">\n",
       "      <th></th>\n",
       "      <th>model</th>\n",
       "      <th>features</th>\n",
       "      <th>ACC</th>\n",
       "      <th>Precision</th>\n",
       "      <th>Recall</th>\n",
       "      <th>F1</th>\n",
       "      <th>ROC</th>\n",
       "      <th>Jaccard</th>\n",
       "    </tr>\n",
       "  </thead>\n",
       "  <tbody>\n",
       "    <tr>\n",
       "      <th>0</th>\n",
       "      <td>MLPClassifier</td>\n",
       "      <td>all</td>\n",
       "      <td>0.946875</td>\n",
       "      <td>0.788732</td>\n",
       "      <td>0.670659</td>\n",
       "      <td>0.724919</td>\n",
       "      <td>0.824862</td>\n",
       "      <td>0.568528</td>\n",
       "    </tr>\n",
       "    <tr>\n",
       "      <th>1</th>\n",
       "      <td>MLPClassifier</td>\n",
       "      <td>selected</td>\n",
       "      <td>0.920000</td>\n",
       "      <td>0.719101</td>\n",
       "      <td>0.383234</td>\n",
       "      <td>0.500000</td>\n",
       "      <td>0.682894</td>\n",
       "      <td>0.333333</td>\n",
       "    </tr>\n",
       "  </tbody>\n",
       "</table>\n",
       "</div>"
      ],
      "text/plain": [
       "           model  features       ACC  Precision    Recall        F1       ROC  \\\n",
       "0  MLPClassifier       all  0.946875   0.788732  0.670659  0.724919  0.824862   \n",
       "1  MLPClassifier  selected  0.920000   0.719101  0.383234  0.500000  0.682894   \n",
       "\n",
       "    Jaccard  \n",
       "0  0.568528  \n",
       "1  0.333333  "
      ]
     },
     "execution_count": 16,
     "metadata": {},
     "output_type": "execute_result"
    }
   ],
   "source": [
    "mlp_metrics = pd.read_csv('model/model_metrics/DL_metrics.csv',sep=';').sort_values(by='Recall',ascending=False)\n",
    "mlp_metrics"
   ]
  },
  {
   "attachments": {},
   "cell_type": "markdown",
   "metadata": {},
   "source": [
    "Con esta prueba **`no`** se obtienen **`resultados`** *comparativamente* **`mejores`** que con los modelos anteriormente probados. "
   ]
  },
  {
   "attachments": {},
   "cell_type": "markdown",
   "metadata": {},
   "source": [
    "Se ajustan los hiperparámetros como última prueba:"
   ]
  },
  {
   "cell_type": "code",
   "execution_count": null,
   "metadata": {},
   "outputs": [],
   "source": [
    "params_mlp = {\n",
    "    'activation': ['relu','logistic'],\n",
    "    'early_stopping': [True],\n",
    "    'hidden_layer_sizes': [(128,32,2)],\n",
    "    'learning_rate': ['constant','invscaling','adaptive'],\n",
    "    'learning_rate_init': [0.001,0.0005],\n",
    "    'max_iter': [200,100],\n",
    " }\n",
    "\n",
    "models_generator(df,target,MLPClassifier(),params_mlp,\n",
    "file_name ='DL_metrics_hyp.csv',dir_file='model/model_metrics',dir_model_file='model',scaling=False,\n",
    "scoring = { \"AUC\": \"roc_auc\",\"Accuracy\": make_scorer(accuracy_score),'Precision': make_scorer(precision_score)})"
   ]
  },
  {
   "cell_type": "code",
   "execution_count": 15,
   "metadata": {},
   "outputs": [
    {
     "data": {
      "text/html": [
       "<div>\n",
       "<style scoped>\n",
       "    .dataframe tbody tr th:only-of-type {\n",
       "        vertical-align: middle;\n",
       "    }\n",
       "\n",
       "    .dataframe tbody tr th {\n",
       "        vertical-align: top;\n",
       "    }\n",
       "\n",
       "    .dataframe thead th {\n",
       "        text-align: right;\n",
       "    }\n",
       "</style>\n",
       "<table border=\"1\" class=\"dataframe\">\n",
       "  <thead>\n",
       "    <tr style=\"text-align: right;\">\n",
       "      <th></th>\n",
       "      <th>model</th>\n",
       "      <th>params_tried</th>\n",
       "      <th>best_params</th>\n",
       "      <th>ACC</th>\n",
       "      <th>Precision</th>\n",
       "      <th>Recall</th>\n",
       "      <th>F1</th>\n",
       "      <th>ROC</th>\n",
       "      <th>Jaccard</th>\n",
       "      <th>model_path</th>\n",
       "    </tr>\n",
       "  </thead>\n",
       "  <tbody>\n",
       "    <tr>\n",
       "      <th>1</th>\n",
       "      <td>MLPClassifier</td>\n",
       "      <td>{'activation': ['relu', 'logistic'], 'early_st...</td>\n",
       "      <td>{'activation': 'relu', 'early_stopping': True,...</td>\n",
       "      <td>0.936875</td>\n",
       "      <td>0.858696</td>\n",
       "      <td>0.473054</td>\n",
       "      <td>0.610039</td>\n",
       "      <td>0.731991</td>\n",
       "      <td>0.438889</td>\n",
       "      <td>model/MLPClassifier.pkl</td>\n",
       "    </tr>\n",
       "    <tr>\n",
       "      <th>2</th>\n",
       "      <td>MLPClassifier</td>\n",
       "      <td>{'activation': ['relu', 'logistic'], 'early_st...</td>\n",
       "      <td>{'activation': 'relu', 'early_stopping': True,...</td>\n",
       "      <td>0.940000</td>\n",
       "      <td>0.784000</td>\n",
       "      <td>0.586826</td>\n",
       "      <td>0.671233</td>\n",
       "      <td>0.783992</td>\n",
       "      <td>0.505155</td>\n",
       "      <td>model/MLPClassifier_2.pkl</td>\n",
       "    </tr>\n",
       "    <tr>\n",
       "      <th>0</th>\n",
       "      <td>MLPClassifier</td>\n",
       "      <td>{'activation': ['relu'], 'early_stopping': [Tr...</td>\n",
       "      <td>{'activation': 'relu', 'early_stopping': True,...</td>\n",
       "      <td>0.933750</td>\n",
       "      <td>0.760684</td>\n",
       "      <td>0.532934</td>\n",
       "      <td>0.626761</td>\n",
       "      <td>0.756697</td>\n",
       "      <td>0.456410</td>\n",
       "      <td>model/MLPClassifier_1.pkl</td>\n",
       "    </tr>\n",
       "  </tbody>\n",
       "</table>\n",
       "</div>"
      ],
      "text/plain": [
       "           model                                       params_tried  \\\n",
       "1  MLPClassifier  {'activation': ['relu', 'logistic'], 'early_st...   \n",
       "2  MLPClassifier  {'activation': ['relu', 'logistic'], 'early_st...   \n",
       "0  MLPClassifier  {'activation': ['relu'], 'early_stopping': [Tr...   \n",
       "\n",
       "                                         best_params       ACC  Precision  \\\n",
       "1  {'activation': 'relu', 'early_stopping': True,...  0.936875   0.858696   \n",
       "2  {'activation': 'relu', 'early_stopping': True,...  0.940000   0.784000   \n",
       "0  {'activation': 'relu', 'early_stopping': True,...  0.933750   0.760684   \n",
       "\n",
       "     Recall        F1       ROC   Jaccard                 model_path  \n",
       "1  0.473054  0.610039  0.731991  0.438889    model/MLPClassifier.pkl  \n",
       "2  0.586826  0.671233  0.783992  0.505155  model/MLPClassifier_2.pkl  \n",
       "0  0.532934  0.626761  0.756697  0.456410  model/MLPClassifier_1.pkl  "
      ]
     },
     "execution_count": 15,
     "metadata": {},
     "output_type": "execute_result"
    }
   ],
   "source": [
    "mlp_metrics_hyparameters = pd.read_csv('model/model_metrics/DL_metrics_hyp.csv',sep=';').sort_values(by='Recall',ascending=False)\n",
    "mlp_metrics_hyparameters"
   ]
  },
  {
   "attachments": {},
   "cell_type": "markdown",
   "metadata": {},
   "source": [
    "<a href='3-Resultados.ipynb'>Ver siguiente notebook</a>"
   ]
  }
 ],
 "metadata": {
  "kernelspec": {
   "display_name": "Python 3.9.12 ('the_bridge_ds')",
   "language": "python",
   "name": "python3"
  },
  "language_info": {
   "codemirror_mode": {
    "name": "ipython",
    "version": 3
   },
   "file_extension": ".py",
   "mimetype": "text/x-python",
   "name": "python",
   "nbconvert_exporter": "python",
   "pygments_lexer": "ipython3",
   "version": "3.10.4"
  },
  "orig_nbformat": 4,
  "vscode": {
   "interpreter": {
    "hash": "b2ad160f8c76d2a8caa3f2cdf61cc6d370c158f390a227c2374ae319d2175eaf"
   }
  }
 },
 "nbformat": 4,
 "nbformat_minor": 2
}
